{
 "cells": [
  {
   "cell_type": "markdown",
   "id": "025d82fe",
   "metadata": {},
   "source": [
    "<h1> Repaso Rapido de Python </h1> \n",
    "<p> Recapitulando los conceptos importantes de Python para aplicarlos en analisis de datos </p>"
   ]
  },
  {
   "cell_type": "code",
   "execution_count": 1,
   "id": "596f63c8",
   "metadata": {},
   "outputs": [],
   "source": [
    "edad = 0 \n",
    "estatura = 5\n",
    "nombre = \"Josue\"\n",
    "inicial = 'j'\n",
    "logica = False "
   ]
  },
  {
   "cell_type": "code",
   "execution_count": 2,
   "id": "77252b63",
   "metadata": {},
   "outputs": [],
   "source": [
    "nombre = nombre + \" \" + \"Zuniga\""
   ]
  },
  {
   "cell_type": "code",
   "execution_count": 3,
   "id": "72d91429",
   "metadata": {},
   "outputs": [
    {
     "data": {
      "text/plain": [
       "'Josue Zuniga'"
      ]
     },
     "execution_count": 3,
     "metadata": {},
     "output_type": "execute_result"
    }
   ],
   "source": [
    "nombre"
   ]
  },
  {
   "cell_type": "code",
   "execution_count": 4,
   "id": "24f70810",
   "metadata": {},
   "outputs": [
    {
     "data": {
      "text/plain": [
       "False"
      ]
     },
     "execution_count": 4,
     "metadata": {},
     "output_type": "execute_result"
    }
   ],
   "source": [
    "logica"
   ]
  },
  {
   "cell_type": "code",
   "execution_count": 5,
   "id": "20f5478d",
   "metadata": {},
   "outputs": [],
   "source": [
    "logica = True "
   ]
  },
  {
   "cell_type": "code",
   "execution_count": 6,
   "id": "388c4e4d",
   "metadata": {},
   "outputs": [
    {
     "data": {
      "text/plain": [
       "True"
      ]
     },
     "execution_count": 6,
     "metadata": {},
     "output_type": "execute_result"
    }
   ],
   "source": [
    "logica"
   ]
  },
  {
   "cell_type": "markdown",
   "id": "4630f30c",
   "metadata": {},
   "source": [
    "<H2> Uso del IF </h2>"
   ]
  },
  {
   "cell_type": "code",
   "execution_count": 7,
   "id": "b218a7bd",
   "metadata": {},
   "outputs": [
    {
     "name": "stdout",
     "output_type": "stream",
     "text": [
      "No se llama Josue\n"
     ]
    }
   ],
   "source": [
    "if nombre == \"Josue\":\n",
    "    nombre = nombre + \" \" + \"Zuniga\"\n",
    "    print (nombre)\n",
    "else:\n",
    "    print (\"No se llama Josue\")"
   ]
  },
  {
   "cell_type": "markdown",
   "id": "a751a040",
   "metadata": {},
   "source": [
    "<h2> Uso del Ciclo For </h2> "
   ]
  },
  {
   "cell_type": "code",
   "execution_count": 8,
   "id": "dff88ee2",
   "metadata": {},
   "outputs": [
    {
     "name": "stdout",
     "output_type": "stream",
     "text": [
      "4\n",
      "78\n",
      "9\n",
      "84\n"
     ]
    }
   ],
   "source": [
    "nums =[4, 78, 9, 84] \n",
    "for n in nums:\n",
    "    print(n)"
   ]
  },
  {
   "cell_type": "code",
   "execution_count": 9,
   "id": "581221f4",
   "metadata": {},
   "outputs": [
    {
     "name": "stdout",
     "output_type": "stream",
     "text": [
      "4\n",
      "2\n",
      "0\n"
     ]
    }
   ],
   "source": [
    "valores = {'A':4, 'B':2, 'C':0} \n",
    "for v in valores.values():\n",
    "    print(v)"
   ]
  },
  {
   "cell_type": "code",
   "execution_count": 10,
   "id": "6adbae6e",
   "metadata": {},
   "outputs": [
    {
     "name": "stdout",
     "output_type": "stream",
     "text": [
      "t=  A u=  4\n",
      "t=  B u=  2\n",
      "t=  C u=  0\n"
     ]
    }
   ],
   "source": [
    "valores = {'A':4, 'B':2, 'C':0} \n",
    "for t, u in valores.items():\n",
    "    print(\"t= \", t, \"u= \", u)"
   ]
  },
  {
   "cell_type": "code",
   "execution_count": 11,
   "id": "e4ed3c79",
   "metadata": {},
   "outputs": [
    {
     "name": "stdout",
     "output_type": "stream",
     "text": [
      "0\n",
      "1\n",
      "2\n",
      "3\n",
      "4\n",
      "5\n",
      "6\n",
      "7\n",
      "8\n",
      "9\n"
     ]
    }
   ],
   "source": [
    "for i in range (10):\n",
    "    print (i)"
   ]
  },
  {
   "cell_type": "code",
   "execution_count": 12,
   "id": "64b9a0f3",
   "metadata": {},
   "outputs": [
    {
     "name": "stdout",
     "output_type": "stream",
     "text": [
      "0\n",
      "2\n",
      "4\n",
      "6\n",
      "8\n",
      "10\n"
     ]
    }
   ],
   "source": [
    "for y in range (0, 11, 2):\n",
    "    print (y)"
   ]
  },
  {
   "cell_type": "markdown",
   "id": "cf44b5b9",
   "metadata": {},
   "source": [
    "<h2>Uso del Ciclo While </h2>"
   ]
  },
  {
   "cell_type": "code",
   "execution_count": 13,
   "id": "eedc3973",
   "metadata": {},
   "outputs": [],
   "source": [
    "while logica == False:\n",
    "    print (\"Hola\")\n",
    "    logica = True"
   ]
  },
  {
   "cell_type": "code",
   "execution_count": 14,
   "id": "9473eb61",
   "metadata": {},
   "outputs": [
    {
     "data": {
      "text/plain": [
       "0"
      ]
     },
     "execution_count": 14,
     "metadata": {},
     "output_type": "execute_result"
    }
   ],
   "source": [
    "edad"
   ]
  },
  {
   "cell_type": "code",
   "execution_count": 19,
   "id": "5c9d5d09",
   "metadata": {},
   "outputs": [
    {
     "name": "stdout",
     "output_type": "stream",
     "text": [
      "1\n",
      "2\n",
      "3\n",
      "4\n",
      "5\n",
      "6\n",
      "7\n",
      "8\n",
      "9\n",
      "10\n"
     ]
    }
   ],
   "source": [
    "edad = 0\n",
    "while edad < 10:\n",
    "    edad += 1\n",
    "    print (edad)\n",
    "    "
   ]
  },
  {
   "cell_type": "code",
   "execution_count": null,
   "id": "c4ab51fc",
   "metadata": {},
   "outputs": [],
   "source": []
  }
 ],
 "metadata": {
  "kernelspec": {
   "display_name": "Python 3 (ipykernel)",
   "language": "python",
   "name": "python3"
  },
  "language_info": {
   "codemirror_mode": {
    "name": "ipython",
    "version": 3
   },
   "file_extension": ".py",
   "mimetype": "text/x-python",
   "name": "python",
   "nbconvert_exporter": "python",
   "pygments_lexer": "ipython3",
   "version": "3.9.13"
  }
 },
 "nbformat": 4,
 "nbformat_minor": 5
}
