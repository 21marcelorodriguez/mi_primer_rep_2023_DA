{
 "cells": [
  {
   "cell_type": "markdown",
   "id": "025d82fe",
   "metadata": {},
   "source": [
    "<h1> Repaso Rapido de Python </h1> \n",
    "<p> Recapitulando los conceptos importantes de Python para aplicarlos en analisis de datos </p>"
   ]
  },
  {
   "cell_type": "code",
   "execution_count": 1,
   "id": "596f63c8",
   "metadata": {},
   "outputs": [],
   "source": [
    "edad = 0 \n",
    "estatura = 5\n",
    "nombre = \"Josue\"\n",
    "inicial = 'j'\n",
    "logica = False "
   ]
  },
  {
   "cell_type": "code",
   "execution_count": 2,
   "id": "99224417",
   "metadata": {},
   "outputs": [
    {
     "data": {
      "text/plain": [
       "6"
      ]
     },
     "execution_count": 2,
     "metadata": {},
     "output_type": "execute_result"
    }
   ],
   "source": [
    "edad = 3 * 2\n",
    "edad"
   ]
  },
  {
   "cell_type": "code",
   "execution_count": 3,
   "id": "dfaf2f2d",
   "metadata": {},
   "outputs": [],
   "source": [
    "edad = 37"
   ]
  },
  {
   "cell_type": "code",
   "execution_count": 4,
   "id": "4f887235",
   "metadata": {},
   "outputs": [
    {
     "data": {
      "text/plain": [
       "37"
      ]
     },
     "execution_count": 4,
     "metadata": {},
     "output_type": "execute_result"
    }
   ],
   "source": [
    "edad"
   ]
  },
  {
   "cell_type": "code",
   "execution_count": 5,
   "id": "77252b63",
   "metadata": {},
   "outputs": [],
   "source": [
    "#nombre = nombre + \" \" + \"Zuniga\""
   ]
  },
  {
   "cell_type": "code",
   "execution_count": 6,
   "id": "72d91429",
   "metadata": {},
   "outputs": [
    {
     "data": {
      "text/plain": [
       "'Josue'"
      ]
     },
     "execution_count": 6,
     "metadata": {},
     "output_type": "execute_result"
    }
   ],
   "source": [
    "nombre"
   ]
  },
  {
   "cell_type": "code",
   "execution_count": 7,
   "id": "0ee69a49",
   "metadata": {},
   "outputs": [],
   "source": [
    "#nombre = \"Pedro\"\n",
    "#nombre"
   ]
  },
  {
   "cell_type": "code",
   "execution_count": 8,
   "id": "24f70810",
   "metadata": {},
   "outputs": [
    {
     "data": {
      "text/plain": [
       "False"
      ]
     },
     "execution_count": 8,
     "metadata": {},
     "output_type": "execute_result"
    }
   ],
   "source": [
    "logica"
   ]
  },
  {
   "cell_type": "code",
   "execution_count": 9,
   "id": "20f5478d",
   "metadata": {},
   "outputs": [],
   "source": [
    "#logica = True "
   ]
  },
  {
   "cell_type": "code",
   "execution_count": 10,
   "id": "388c4e4d",
   "metadata": {},
   "outputs": [
    {
     "data": {
      "text/plain": [
       "False"
      ]
     },
     "execution_count": 10,
     "metadata": {},
     "output_type": "execute_result"
    }
   ],
   "source": [
    "logica"
   ]
  },
  {
   "cell_type": "code",
   "execution_count": null,
   "id": "6bb6cb77",
   "metadata": {},
   "outputs": [],
   "source": []
  },
  {
   "cell_type": "markdown",
   "id": "4630f30c",
   "metadata": {},
   "source": [
    "<H2> Uso del IF </h2>"
   ]
  },
  {
   "cell_type": "code",
   "execution_count": 11,
   "id": "b218a7bd",
   "metadata": {},
   "outputs": [
    {
     "name": "stdout",
     "output_type": "stream",
     "text": [
      "Josue Zuniga\n"
     ]
    }
   ],
   "source": [
    "if nombre == \"Josue\":\n",
    "    nombre = nombre + \" \" + \"Zuniga\"\n",
    "    print (nombre)\n",
    "else:\n",
    "    print (\"No se llama Josue\") #De esta forma no reconoce el \"Josue\" es Jupyter se trabaja diferente el if\n",
    "    #hay que tener en cuenta que si el algún momento se le asignó otro valor a la variable 'nombre' como en el caso \n",
    "    #de la línea 7, se cambió por Pedro, se va a guardar en memoria y va a afectar en fururas líneas\n",
    "    #para efecto que corriera el código se dejaron comentadas las líneas 5 y 7 "
   ]
  },
  {
   "cell_type": "markdown",
   "id": "a751a040",
   "metadata": {},
   "source": [
    "<h2> Uso del Ciclo For </h2> "
   ]
  },
  {
   "cell_type": "code",
   "execution_count": 12,
   "id": "dff88ee2",
   "metadata": {},
   "outputs": [
    {
     "name": "stdout",
     "output_type": "stream",
     "text": [
      "4\n",
      "78\n",
      "9\n",
      "84\n"
     ]
    }
   ],
   "source": [
    "nums =[4, 78, 9, 84] \n",
    "for n in nums:\n",
    "    print(n)"
   ]
  },
  {
   "cell_type": "code",
   "execution_count": 13,
   "id": "581221f4",
   "metadata": {},
   "outputs": [
    {
     "name": "stdout",
     "output_type": "stream",
     "text": [
      "4\n",
      "2\n",
      "0\n"
     ]
    }
   ],
   "source": [
    "valores = {'A':4, 'B':2, 'C':0} \n",
    "for v in valores.values():\n",
    "    print(v)"
   ]
  },
  {
   "cell_type": "code",
   "execution_count": 14,
   "id": "6adbae6e",
   "metadata": {},
   "outputs": [
    {
     "name": "stdout",
     "output_type": "stream",
     "text": [
      "t =  A  u= 4\n",
      "t =  B  u= 2\n",
      "t =  C  u= 0\n"
     ]
    }
   ],
   "source": [
    "valores = {'A':4, 'B':2, 'C':0} \n",
    "for t, u in valores.items():\n",
    "    print(\"t = \", t, \" u=\", u)"
   ]
  },
  {
   "cell_type": "code",
   "execution_count": 15,
   "id": "e4ed3c79",
   "metadata": {},
   "outputs": [
    {
     "name": "stdout",
     "output_type": "stream",
     "text": [
      "0\n",
      "1\n",
      "2\n",
      "3\n",
      "4\n",
      "5\n",
      "6\n",
      "7\n",
      "8\n",
      "9\n"
     ]
    }
   ],
   "source": [
    "for i in range (10):\n",
    "    print (i)"
   ]
  },
  {
   "cell_type": "code",
   "execution_count": 16,
   "id": "64b9a0f3",
   "metadata": {},
   "outputs": [
    {
     "name": "stdout",
     "output_type": "stream",
     "text": [
      "0\n",
      "2\n",
      "4\n",
      "6\n",
      "8\n",
      "10\n"
     ]
    }
   ],
   "source": [
    "for y in range (0, 11, 2):\n",
    "    print (y)"
   ]
  },
  {
   "cell_type": "markdown",
   "id": "cf44b5b9",
   "metadata": {},
   "source": [
    "<h2>Uso del Ciclo While </h2>"
   ]
  },
  {
   "cell_type": "code",
   "execution_count": 17,
   "id": "eedc3973",
   "metadata": {},
   "outputs": [
    {
     "name": "stdout",
     "output_type": "stream",
     "text": [
      "Hola\n"
     ]
    }
   ],
   "source": [
    "while logica == False:\n",
    "    print (\"Hola\") #hecho de esta manera se va a enciclar, el programa no imprime nada porque no tiene una bandera lógica \n",
    "    #para poder dejar de correr la instrucción\n",
    "    logica = True #Con esta línea cambiamos de False a True y esto hace que imprima solo un 'hola'"
   ]
  },
  {
   "cell_type": "code",
   "execution_count": 18,
   "id": "9473eb61",
   "metadata": {},
   "outputs": [
    {
     "data": {
      "text/plain": [
       "37"
      ]
     },
     "execution_count": 18,
     "metadata": {},
     "output_type": "execute_result"
    }
   ],
   "source": [
    "edad"
   ]
  },
  {
   "cell_type": "code",
   "execution_count": 19,
   "id": "cc66b84e",
   "metadata": {},
   "outputs": [
    {
     "name": "stdout",
     "output_type": "stream",
     "text": [
      "1\n",
      "2\n",
      "3\n",
      "4\n",
      "5\n",
      "6\n",
      "7\n",
      "8\n",
      "9\n",
      "10\n",
      "11\n"
     ]
    }
   ],
   "source": [
    "edad = 0\n",
    "while edad <= 10:\n",
    "    edad += 1\n",
    "    print (edad)"
   ]
  },
  {
   "cell_type": "code",
   "execution_count": 20,
   "id": "5c9d5d09",
   "metadata": {},
   "outputs": [
    {
     "name": "stdout",
     "output_type": "stream",
     "text": [
      "1\n",
      "2\n",
      "3\n",
      "4\n",
      "5\n",
      "6\n",
      "7\n",
      "8\n",
      "9\n",
      "10\n"
     ]
    }
   ],
   "source": [
    "edad = 0\n",
    "while edad < 10:\n",
    "    edad += 1\n",
    "    print (edad)\n",
    "    "
   ]
  },
  {
   "cell_type": "code",
   "execution_count": null,
   "id": "c4ab51fc",
   "metadata": {},
   "outputs": [],
   "source": []
  }
 ],
 "metadata": {
  "kernelspec": {
   "display_name": "Python 3 (ipykernel)",
   "language": "python",
   "name": "python3"
  },
  "language_info": {
   "codemirror_mode": {
    "name": "ipython",
    "version": 3
   },
   "file_extension": ".py",
   "mimetype": "text/x-python",
   "name": "python",
   "nbconvert_exporter": "python",
   "pygments_lexer": "ipython3",
   "version": "3.9.13"
  }
 },
 "nbformat": 4,
 "nbformat_minor": 5
}
